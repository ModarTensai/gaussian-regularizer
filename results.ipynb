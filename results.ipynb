{
 "cells": [
  {
   "cell_type": "code",
   "execution_count": null,
   "metadata": {},
   "outputs": [],
   "source": [
    "# !python experiments.py --sigma 0.25 --alpha 0.5 --gamma 0.5 --log results/xe_0.25_0.5_0.5\n",
    "\n",
    "from pathlib import Path\n",
    "from pprint import pprint\n",
    "from evaluate import get_config, get_metrics, get_robustness, get_sigma_robustness\n",
    "\n",
    "\n",
    "def summary(path, name=None):\n",
    "    config = get_config(path)\n",
    "    metrics = get_metrics(path)\n",
    "    robustness = get_robustness(path)['AuC']\n",
    "    certificate = get_sigma_robustness(path, 0.25)['0.25']\n",
    "    return {\n",
    "        'name': str(path if name is None else name),\n",
    "        'sigma': config['sigma'],\n",
    "        'alpha': config['alpha'],\n",
    "        'gamma': config['gamma'],\n",
    "        'train_acc': metrics['train']['accuracy'],\n",
    "        'test_acc': metrics['test']['accuracy'],\n",
    "        'robustness': round(robustness, 4),\n",
    "        'rob_0.25': certificate,\n",
    "    }\n",
    "\n",
    "\n",
    "root_dir = Path('./results')\n",
    "\n",
    "for i, path in enumerate(root_dir.glob('**/state_dict.pt'), 1):\n",
    "    print(i, str(path.parent))\n",
    "    if i > 11:\n",
    "        continue\n",
    "    res = summary(path.parent)\n",
    "    # pprint(res)"
   ]
  },
  {
   "cell_type": "code",
   "execution_count": null,
   "metadata": {},
   "outputs": [],
   "source": [
    "import pandas as pd\n",
    "\n",
    "pd.DataFrame([\n",
    "    summary(root_dir / path, name) for name, path in [\n",
    "        ('nominal', 'xe_0_0_0/1'),\n",
    "        ('cohen', 'xe_0.25_0_0.5/1'),\n",
    "        ('nm', 'xe_0.25_0.5_0/1'),\n",
    "        ('nm_data', 'xe_0.25_0.5_0_data/1'),\n",
    "        ('nm_running_after', 'xe_0.25_0.5_0_running/1'),\n",
    "        ('nm_running_before', 'xe_0.25_0.5_0_running/2'),\n",
    "        ('nm_nobn1', 'xe_0.25_0.5_0_nobn1/1'),\n",
    "        ('nm_lin', 'xe_0.25_0.5_0_linearization/1'),\n",
    "        ('nm_bndata_bug', 'xe_0.25_0.5_0_bndata/1'),\n",
    "        ('nm_bndata', 'xe_0.25_0.5_0_bndata/2'),\n",
    "        ('nm_lin_bndata_35', 'xe_0.25_0.5_0_lin_bndata/1'),\n",
    "#         ('nm_lin_bndata', 'xe_0.25_0.5_0_lin_bndata/2'),\n",
    "        ('nmc_running_before', 'xe_0.25_0.5_0.5/1'),\n",
    "    ]\n",
    "])"
   ]
  }
 ],
 "metadata": {
  "kernelspec": {
   "display_name": "Python 3",
   "language": "python",
   "name": "python3"
  },
  "language_info": {
   "codemirror_mode": {
    "name": "ipython",
    "version": 3
   },
   "file_extension": ".py",
   "mimetype": "text/x-python",
   "name": "python",
   "nbconvert_exporter": "python",
   "pygments_lexer": "ipython3",
   "version": "3.7.4"
  }
 },
 "nbformat": 4,
 "nbformat_minor": 4
}