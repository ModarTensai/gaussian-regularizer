{
 "cells": [
  {
   "cell_type": "code",
   "execution_count": 2,
   "metadata": {},
   "outputs": [
    {
     "data": {
      "application/vnd.jupyter.widget-view+json": {
       "model_id": "e52fab94c0c94417a3c52311725cf817",
       "version_major": 2,
       "version_minor": 0
      },
      "text/html": [
       "<p>Failed to display Jupyter Widget of type <code>Checkbox</code>.</p>\n",
       "<p>\n",
       "  If you're reading this message in the Jupyter Notebook or JupyterLab Notebook, it may mean\n",
       "  that the widgets JavaScript is still loading. If this message persists, it\n",
       "  likely means that the widgets JavaScript library is either not installed or\n",
       "  not enabled. See the <a href=\"https://ipywidgets.readthedocs.io/en/stable/user_install.html\">Jupyter\n",
       "  Widgets Documentation</a> for setup instructions.\n",
       "</p>\n",
       "<p>\n",
       "  If you're reading this message in another frontend (for example, a static\n",
       "  rendering on GitHub or <a href=\"https://nbviewer.jupyter.org/\">NBViewer</a>),\n",
       "  it may mean that your frontend doesn't currently support widgets.\n",
       "</p>\n"
      ],
      "text/plain": [
       "Checkbox(value=False, description='Continuous Update')"
      ]
     },
     "metadata": {},
     "output_type": "display_data"
    },
    {
     "data": {
      "application/vnd.jupyter.widget-view+json": {
       "model_id": "26978531614547b992ef441ab2aacfc7",
       "version_major": 2,
       "version_minor": 0
      },
      "text/html": [
       "<p>Failed to display Jupyter Widget of type <code>interactive</code>.</p>\n",
       "<p>\n",
       "  If you're reading this message in the Jupyter Notebook or JupyterLab Notebook, it may mean\n",
       "  that the widgets JavaScript is still loading. If this message persists, it\n",
       "  likely means that the widgets JavaScript library is either not installed or\n",
       "  not enabled. See the <a href=\"https://ipywidgets.readthedocs.io/en/stable/user_install.html\">Jupyter\n",
       "  Widgets Documentation</a> for setup instructions.\n",
       "</p>\n",
       "<p>\n",
       "  If you're reading this message in another frontend (for example, a static\n",
       "  rendering on GitHub or <a href=\"https://nbviewer.jupyter.org/\">NBViewer</a>),\n",
       "  it may mean that your frontend doesn't currently support widgets.\n",
       "</p>\n"
      ],
      "text/plain": [
       "interactive(children=(FloatSlider(value=20.0, continuous_update=False, description='s1'), FloatSlider(value=40.0, continuous_update=False, description='s2'), FloatSlider(value=17.0, continuous_update=False, description='s12', min=-100.0), FloatSlider(value=0.0, continuous_update=False, description='m1', min=-100.0), FloatSlider(value=0.0, continuous_update=False, description='m2', min=-100.0), Output()), _dom_classes=('widget-interact',))"
      ]
     },
     "metadata": {},
     "output_type": "display_data"
    }
   ],
   "source": [
    "import torch\n",
    "import matplotlib.pyplot as plt\n",
    "from IPython.display import display\n",
    "from mpl_toolkits.mplot3d import Axes3D\n",
    "import network_moments.torch.gaussian as gnm\n",
    "from ipywidgets import Checkbox, interactive, FloatSlider\n",
    "from torch.distributions import MultivariateNormal as gaussian\n",
    "\n",
    "plt.style.use('dark_background')\n",
    "\n",
    "def continuous_update(*args):\n",
    "    y = Checkbox(value=False, description='Continuous Update')\n",
    "    def observe(*a):\n",
    "        for x in args:\n",
    "            x.continuous_update = y.value\n",
    "    observe()\n",
    "    y.observe(observe, 'value')\n",
    "    display(y)\n",
    "\n",
    "    \n",
    "def f(x, y, z, v, w):\n",
    "    if x == 0 or y == 0 or x*y == z**2:\n",
    "        print()\n",
    "        return\n",
    "    dtype=torch.float64\n",
    "    mean = torch.tensor([v, w], dtype=dtype)\n",
    "    cov = torch.tensor([[x, z], [z, y]], dtype=dtype)\n",
    "    torch.manual_seed(0)\n",
    "    try:\n",
    "        samples = gaussian(mean, cov).sample((100000,))\n",
    "    except:\n",
    "        print()\n",
    "        return\n",
    "    samples.clamp_(min=0)\n",
    "    corr = gnm.utils.cov(samples)[1, 1] + samples.mean(dim=0).prod()\n",
    "    plt.scatter(samples[:, 0].numpy(), samples[:, 1].numpy(), 1, label=corr.item())\n",
    "    plt.legend()\n",
    "    plt.show()\n",
    "    def plot(data, color, label):\n",
    "        xs = torch.linspace(data.min(), data.max())\n",
    "        plt.plot(xs.numpy()[1:], data.histc().numpy()[1:], color, label=label)\n",
    "#     plot(samples[:, 0], 'c', '1')\n",
    "#     plot(samples[:, 1], 'g', '2')\n",
    "#     plot(samples[:, 0].clamp(min=0), 'b', 'r1')\n",
    "#     plot(samples[:, 1].clamp(min=0), 'r', 'r2')\n",
    "#     plt.legend()\n",
    "#     plt.show()\n",
    "\n",
    "v = FloatSlider(min=-100, max=100, value=0, step=0.1, description='m1')\n",
    "w = FloatSlider(min=-100, max=100, value=0, step=0.1, description='m2')\n",
    "x = FloatSlider(min=0, max=100, value=20, step=0.1, description='s1')\n",
    "y = FloatSlider(min=0, max=100, value=40, step=0.1, description='s2')\n",
    "z = FloatSlider(min=-100, max=100, value=17, step=0.1, description='s12')\n",
    "continuous_update(x, y, z, v, w)\n",
    "interactive(f, x=x, y=y, z=z, v=v, w=w)"
   ]
  },
  {
   "cell_type": "markdown",
   "metadata": {},
   "source": [
    "Let $\\mathbf{x}\\sim\\mathcal{N}\\left(\\mathbf{\\mu}, \\mathbf{\\Sigma}\\right)$ and $q(x) = \\max(x, 0)$ where $\\Phi(x)$ and $\\varphi(x)$ are the CDF and PDF of the standard Gaussian distribution,\n",
    "\n",
    "$\\mathbb{E}\\left[q(\\mathbf{x})\\right] = \\mathbf{\\mu}\\odot\\Phi\\left(\\mathbf{\\mu}\\oslash\\mathbf{\\sigma}\\right) + \\mathbf{\\sigma}\\odot\\varphi\\left(\\mathbf{\\mu}\\oslash\\mathbf{\\sigma}\\right)$\n",
    "where $\\mathbf{\\sigma} = \\sqrt{\\text{diag}\\left(\\mathbf{\\Sigma}\\right)}$ with\n",
    "$\\odot$ and $\\oslash$ as element-wise product and division.\n",
    "\n",
    "$\\mathbb{E}\\left[q^2(\\mathbf{x})\\right] = \n",
    "\\left(\\mathbf{\\mu}^2+\\mathbf{\\sigma}^2\\right) \\odot \\Phi\\left(\\mathbf{\\mu}\\oslash\\mathbf{\\sigma}\\right) + \\mathbf{\\mu} \\odot \\mathbf{\\sigma} \\odot \\varphi\\left(\\mathbf{\\mu}\\oslash\\mathbf{\\sigma}\\right)$\n",
    "where $\\text{var}\\left[q(\\mathbf{x})\\right] = \\mathbb{E}\\left[q^2(\\mathbf{x})\\right] - \\mathbb{E}\\left[q(\\mathbf{x})\\right]^2$\n",
    "\n",
    "$\\left.\\mathbb{E}\\left[q(\\mathbf{x})q(\\mathbf{x})^\\top\\right]\\right|_{\\mathbf{\\mu} = \\mathbf{0}} = c\\left(\\mathbf{\\Sigma}\\oslash\\mathbf{\\sigma}\\mathbf{\\sigma}^\\top\\right) \\odot \\mathbf{\\sigma}\\mathbf{\\sigma}^\\top$\n",
    "where $c(x) = \\frac{1}{2\\pi}\\left(x\\cos^{-1}(-x)+\\sqrt{1-x^2}\\right)$\n",
    "(Note: $\\left|c(x) - \\Phi(x - 1)\\right| < 0.0241$)\n",
    "\n",
    "$\\text{cov}\\left[q(\\mathbf{x})\\right] = \\mathbb{E}\\left[q(\\mathbf{x})q(\\mathbf{x})^\\top\\right] - \\mathbb{E}\\left[q(\\mathbf{x})\\right]\\mathbb{E}\\left[q(\\mathbf{x})\\right]^\\top$\n",
    "where $\\left.\\text{cov}\\left[q(\\mathbf{x})\\right]\\right|_{\\mathbf{\\mu} = \\mathbf{0}} = \\frac{\\mathbf{\\sigma}\\mathbf{\\sigma}^\\top}{2\\pi}\\left(\\mathbf{R}\\cos^{-1}\\left(-\\mathbf{R}\\right)+\\sqrt{1-\\mathbf{R}^2} - 1\\right)$ and $\\mathbf{R} = \\mathbf{\\Sigma} \\oslash \\mathbf{\\sigma}\\mathbf{\\sigma}^\\top$\n",
    "\n",
    "$\\mathbb{E}\\left[q^2(\\mathbf{x})\\right] = \\text{diag}\\left(\\mathbb{E}\\left[q(\\mathbf{x})q(\\mathbf{x})^\\top\\right]\\right)$"
   ]
  },
  {
   "cell_type": "code",
   "execution_count": 2,
   "metadata": {},
   "outputs": [],
   "source": [
    "# # def g(s1, s2, s12):\n",
    "# #     s1s2 = s1 * s2\n",
    "# #     sqrt = math.sqrt(s1s2**2-s12**2)\n",
    "# #     return (s12 * math.asin(s12 / s1s2) + sqrt) / (2 * math.pi) + s12 / 4\n",
    "\n",
    "# def off(x):\n",
    "#     y = x.view(-1, *x.shape[-2:]) if x.dim() > 2 else x.unsqueeze(0)\n",
    "#     cov = torch.tensor([gnm.utils.cov(s)[1, 1] for s in y], dtype=x.dtype)\n",
    "#     return cov.view(*x.shape[:-2]) if x.dim() > 2 else cov\n",
    "\n",
    "# def corr(mean, s1, s2, s12):\n",
    "#     cov = torch.tensor([[s1, s12], [s12, s2]], dtype=mean.dtype)\n",
    "#     torch.manual_seed(0)\n",
    "#     try:\n",
    "#         samples = gaussian(torch.zeros(2, dtype=mean.dtype), cov).sample((10000,))\n",
    "#     except:\n",
    "#         n = mean.size(0) if mean.dim() > 1 else 1\n",
    "#         return torch.zeros(n, dtype=mean.dtype)\n",
    "#     out = (samples + mean.unsqueeze(-2)).clamp(min=0)\n",
    "#     mean = out.mean(dim=-2).prod()\n",
    "#     return off(out) + mean\n",
    "\n",
    "# def f(s1, s2, s12):\n",
    "#     dtype = torch.float64\n",
    "#     xs, ys = torch.meshgrid([torch.linspace(-2, 2, dtype=dtype)] * 2)\n",
    "#     zs = corr(torch.stack((xs, ys), dim=-1), s1, s2, s12)\n",
    "#     fig = plt.figure()\n",
    "#     ax = fig.add_subplot(111, projection='3d')\n",
    "#     ax.plot_surface(xs.numpy(), ys.numpy(), zs.numpy())\n",
    "#     plt.show()\n",
    "\n",
    "# f(1, 1, 0)\n",
    "\n",
    "# # s1 = FloatSlider(min=0, max=100, value=20, step=0.1, description='s1')\n",
    "# # s2 = FloatSlider(min=0, max=100, value=40, step=0.1, description='s2')\n",
    "# # s12 = FloatSlider(min=-100, max=100, value=17, step=0.1, description='s12')\n",
    "# # continuous_update(s1, s2, s12)\n",
    "# # interactive(f, s1=s1, s2=s2, s12=s12)"
   ]
  },
  {
   "cell_type": "code",
   "execution_count": 9,
   "metadata": {},
   "outputs": [
    {
     "name": "stdout",
     "output_type": "stream",
     "text": [
      "0.0012089187375359063\n",
      "<4.4e+01, 2.4e+01, 9.5e+00>\n",
      "<4.4e+01, 2.4e+01, 9.5e+00>\n",
      "<5.5e-04, 8.8e-06, 2.0e-04>\n"
     ]
    }
   ],
   "source": [
    "import math\n",
    "import torch\n",
    "import network_moments.torch.gaussian as gnm\n",
    "\n",
    "outer = gnm.utils.outer\n",
    "normal_density = gnm.utils.stats.gaussian.normal_density\n",
    "\n",
    "def prn(a):\n",
    "    print('<{:.1e}, {:.1e}, {:.1e}>'.format(\n",
    "        a[0, 0].item(), a[1, 1].item(), a[0, 1].item()))\n",
    "\n",
    "def err(a, b):\n",
    "    return (torch.norm(a - b) / torch.norm(b)).item()\n",
    "\n",
    "factor = 10\n",
    "cov = gnm.utils.rand.definite(2, norm=factor**2, dtype=torch.float64)\n",
    "mean = factor * torch.randn(cov.size(0), dtype=cov.dtype, device=cov.device)*0\n",
    "samples = torch.distributions.MultivariateNormal(mean, cov).sample((1000000,)).clamp(min=0.0)\n",
    "\n",
    "N = outer(samples.mean(0))\n",
    "out_cov = gnm.utils.cov(samples) + N\n",
    "my_cov = relu_cov(mean, cov) + N\n",
    "print(err(out_cov, my_cov))\n",
    "prn(my_cov)\n",
    "prn(out_cov)\n",
    "prn((my_cov - out_cov).abs() / factor**2)"
   ]
  },
  {
   "cell_type": "markdown",
   "metadata": {},
   "source": [
    "$f\\left(x_1, x_2\\right) = \\max\\left(x_1, 0\\right) \\max\\left(x_2, 0\\right)$ such that $x_1 \\sim \\mathcal{N}(\\mu_1, \\sigma_1)$ and $x_2 \\sim \\mathcal{N}(\\mu_2, \\sigma_2)$.\n",
    "\n",
    "If $x_1 = x_2$, then $\\mathbb{E}\\left[f\\right] = (\\mu^2+\\sigma^2)C\\left(\\frac{\\mu}{\\sigma}\\right) + \\mu\\sigma P\\left(\\frac{\\mu}{\\sigma}\\right)$ where $C(x)$ and $P(x)$ are the CDF and PDF of the standard normal distribution.\n",
    "\n",
    "If $\\mu_1 = \\mu_2 = 0$, then $\\mathbb{E}\\left[f\\right] = \\sigma_1\\sigma_2q(c)$ where $q(x) = \\frac{x\\cos^{-1}(-x)+\\sqrt{1-x^2}}{2\\pi}$ and $c = \\frac{\\sigma_{1,2}}{\\sigma_1\\sigma_2}$ (correlation $|c| \\leq 1$).  \n",
    "Note: $q(x): \\left[-1, 1\\right]\\rightarrow\\left[0, \\frac{1}{2}\\right]$ and $q(x) \\approx C(x - 1)$ with a maximum error of $0.0241$ closer to the left tail.\n",
    "\n",
    "If $x_1 = x_2$ and $\\mu = 0$, then $\\mathbb{E}\\left[f\\right] = \\sigma^2q\\left(1\\right) = \\sigma^2C\\left(0\\right) = \\frac{\\sigma^2}{2}$."
   ]
  },
  {
   "cell_type": "code",
   "execution_count": 5,
   "metadata": {},
   "outputs": [],
   "source": [
    "def relu_cov(mean, covariance, stability=0.0):\n",
    "    var = torch.diagonal(covariance, 0, -2, -1)\n",
    "    std = torch.sqrt(var)\n",
    "    pdf, cdf = normal_density(mean / std)\n",
    "    S = outer(std)\n",
    "    V = (covariance / S).clamp_(stability - 1.0, 1.0 - stability)\n",
    "#     Q = normal_density(V - 1.0, pdf=False)\n",
    "    Q = (torch.acos(-V) * V + torch.sqrt(1.0 - (V**2.0))) / (2.0 * math.pi)\n",
    "    M = outer(mean)\n",
    "    N = outer(gnm.relu.mean(mean, std, std=True))\n",
    "#     C = Q * S\n",
    "#     C = (S + M) * cdf.diag() + (mean * std * pdf).diag()\n",
    "    out_var = (mean**2 + var) * cdf + mean * std * pdf\n",
    "    C = (Q * S).as_strided([Q.size(0)], [Q.size(0)+1]).copy_(out_var)\n",
    "    return C - N\n",
    "\n",
    "# V = gnm.utils.rand.definite(100, dtype=torch.float64)\n",
    "# %timeit (torch.acos(-V) * V + torch.sqrt(1.0 - (V**2.0))) / (2.0 * math.pi)\n",
    "# %timeit gnm.utils.stats.gaussian.normal_density(V - 1.0, pdf=False)"
   ]
  },
  {
   "cell_type": "code",
   "execution_count": 7,
   "metadata": {},
   "outputs": [
    {
     "data": {
      "text/plain": [
       "tensor([[ 1.0000, -0.9839],\n",
       "        [-0.9839,  1.0000]], dtype=torch.float64)"
      ]
     },
     "execution_count": 7,
     "metadata": {},
     "output_type": "execute_result"
    }
   ],
   "source": [
    "cov / outer(cov.diag().sqrt())"
   ]
  },
  {
   "cell_type": "code",
   "execution_count": 8,
   "metadata": {},
   "outputs": [],
   "source": [
    "def relu_cov(mean, covariance, stability=0.0):\n",
    "    std = torch.sqrt(torch.diagonal(covariance, 0, -2, -1))\n",
    "    S = gnm.utils.outer(std)\n",
    "    V = (covariance / S).clamp_(stability - 1.0, 1.0 - stability)\n",
    "    Q = (torch.acos(-V) * V + torch.sqrt(1.0 - (V**2.0))) / (2.0 * math.pi)\n",
    "    M = gnm.utils.outer(gnm.relu.mean(mean, std, std=True))\n",
    "    return Q * S - M"
   ]
  }
 ],
 "metadata": {
  "kernelspec": {
   "display_name": "Python [default]",
   "language": "python",
   "name": "python3"
  },
  "language_info": {
   "codemirror_mode": {
    "name": "ipython",
    "version": 3
   },
   "file_extension": ".py",
   "mimetype": "text/x-python",
   "name": "python",
   "nbconvert_exporter": "python",
   "pygments_lexer": "ipython3",
   "version": "3.6.3"
  }
 },
 "nbformat": 4,
 "nbformat_minor": 2
}
