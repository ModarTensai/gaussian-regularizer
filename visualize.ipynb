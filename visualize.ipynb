{
 "cells": [
  {
   "cell_type": "code",
   "execution_count": null,
   "metadata": {},
   "outputs": [],
   "source": [
    "import matplotlib.pyplot as plt\n",
    "\n",
    "\n",
    "plt.plot(range(10))\n",
    "plt.show()"
   ]
  },
  {
   "cell_type": "code",
   "execution_count": null,
   "metadata": {
    "colab": {},
    "colab_type": "code",
    "id": "IqZFS-UqCgPW"
   },
   "outputs": [],
   "source": [
    "from evaluate import get_all_results\n",
    "\n",
    "df = get_all_results('.')"
   ]
  },
  {
   "cell_type": "code",
   "execution_count": null,
   "metadata": {
    "colab": {
     "base_uri": "https://localhost:8080/",
     "height": 288
    },
    "colab_type": "code",
    "id": "8woyEiSncxmP",
    "outputId": "60a4bd9b-800b-4985-a525-e7be677c92e8"
   },
   "outputs": [],
   "source": [
    "def get_best(df, criteria, group_by, ascending=False):\n",
    "    ordered = df.sort_values(criteria, ascending=ascending)\n",
    "    return ordered.drop_duplicates(group_by).sort_values(group_by)\n",
    "\n",
    "tolerance = 0.2\n",
    "# m = df[df['model'] == 'alexnet']\n",
    "# m = df[df['model'] == 'vgg16_bn']\n",
    "# m = df[df['model'] == 'resnet8']\n",
    "m = df[df['model'] == 'resnet56']\n",
    "# m = df[df['model'] == 'resnet110']\n",
    "baseline = m.loc[m[m['method'] == 'Nominal']['accuracy'].idxmax()]\n",
    "valid = m['accuracy'] + tolerance >= baseline['accuracy']\n",
    "\n",
    "cohen = m[valid & (m['method'] == 'Cohen')].sort_values('sigma')\n",
    "augment = m[valid & (m['method'] == 'Augment')].sort_values('sigma')\n",
    "\n",
    "select = ~((m['method'] == 'Nominal') | (m['method'] == 'Cohen'))\n",
    "# ours = get_best(m[valid & select], 'robustness', 'sigma')\n",
    "# ours = get_best(m[valid & select], 'accuracy', 'sigma')\n",
    "# ours = m[valid & select & (m['alpha'] == 0.5)].sort_values('sigma')\n",
    "ours = get_best(m[valid & select], 'robustness', 'accuracy')"
   ]
  },
  {
   "cell_type": "code",
   "execution_count": null,
   "metadata": {},
   "outputs": [],
   "source": [
    "# m[(m['alpha'] == 1)].sort_values('sigma')"
   ]
  },
  {
   "cell_type": "code",
   "execution_count": null,
   "metadata": {},
   "outputs": [],
   "source": [
    "ours.sort_values('accuracy', inplace=True)\n",
    "ours[ours['sigma'] == 0.5]"
   ]
  },
  {
   "cell_type": "code",
   "execution_count": null,
   "metadata": {},
   "outputs": [],
   "source": [
    "plt.figure(figsize=(8, 5))\n",
    "plt.plot(baseline['accuracy'], baseline['robustness'], 'D')\n",
    "plt.plot(ours['accuracy'], ours['robustness'], '8-')\n",
    "plt.plot(cohen['accuracy'], cohen['robustness'], '8-')\n",
    "plt.plot(augment['accuracy'], augment['robustness'], '8-')\n",
    "plt.legend(['Baseline', 'Ours', 'Noisy', 'Augmented'], fontsize=15*.9)\n",
    "plt.xlabel('Test Accuracy', fontsize=15)\n",
    "plt.ylabel('Robustness $\\Re$', fontsize=15)\n",
    "plt.grid()\n",
    "plt.show()"
   ]
  },
  {
   "cell_type": "code",
   "execution_count": null,
   "metadata": {
    "colab": {},
    "colab_type": "code",
    "id": "aPd0yONxg8q8"
   },
   "outputs": [],
   "source": [
    "plt.figure(figsize=(8, 5))\n",
    "plt.axhline(y=baseline['accuracy'], linewidth=2, color='k', linestyle='--')\n",
    "plt.plot(ours['sigma'], ours['accuracy'], '8-')\n",
    "plt.plot(cohen['sigma'], cohen['accuracy'], '8-')\n",
    "plt.plot(augment['sigma'], augment['accuracy'], '8-')\n",
    "plt.legend(['Baseline', 'Ours', 'Noisy', 'Augmented'], fontsize=15*.9)\n",
    "plt.xlabel('Training $\\sigma$', fontsize=15)\n",
    "plt.ylabel('Testing Accuracy', fontsize=15)\n",
    "# plt.xlim((0, 1.1))\n",
    "plt.grid()\n",
    "plt.show()"
   ]
  },
  {
   "cell_type": "code",
   "execution_count": null,
   "metadata": {},
   "outputs": [],
   "source": [
    "plt.figure(figsize=(8, 5))\n",
    "plt.axhline(y=baseline['robustness'], linewidth=2, color='k', linestyle='--')\n",
    "plt.plot(ours['sigma'], ours['robustness'], '8-')\n",
    "plt.plot(cohen['sigma'], cohen['robustness'], '8-')\n",
    "plt.plot(augment['sigma'], augment['robustness'], '8-')\n",
    "plt.legend(['Baseline', 'Ours', 'Noisy', 'Augmented'], fontsize=15*.9)\n",
    "plt.xlabel('Training $\\sigma$', fontsize=15)\n",
    "plt.ylabel('Robustness $\\Re$', fontsize=15)\n",
    "# plt.xlim((0, 1.1))\n",
    "plt.grid()\n",
    "plt.show()"
   ]
  }
 ],
 "metadata": {
  "colab": {
   "collapsed_sections": [],
   "name": "vis.ipynb",
   "provenance": []
  },
  "kernelspec": {
   "display_name": "Python 3",
   "language": "python",
   "name": "python3"
  },
  "language_info": {
   "codemirror_mode": {
    "name": "ipython",
    "version": 3
   },
   "file_extension": ".py",
   "mimetype": "text/x-python",
   "name": "python",
   "nbconvert_exporter": "python",
   "pygments_lexer": "ipython3",
   "version": "3.7.5"
  }
 },
 "nbformat": 4,
 "nbformat_minor": 4
}