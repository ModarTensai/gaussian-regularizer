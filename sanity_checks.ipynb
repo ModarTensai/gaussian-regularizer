{
 "cells": [
  {
   "cell_type": "markdown",
   "metadata": {},
   "source": [
    "ours vs monte carlo vs roth's (vary sigma and num_layers)"
   ]
  },
  {
   "cell_type": "code",
   "execution_count": null,
   "metadata": {},
   "outputs": [],
   "source": [
    "import torch\n",
    "import torch.nn as nn\n",
    "from experiments import GaussianExp\n",
    "\n",
    "\n",
    "def relative_error(x, y):\n",
    "    return 2 * (x - y).abs() / (x.abs() + y.abs())\n",
    "\n",
    "\n",
    "def get_model(layers, batch_norm=True):\n",
    "    if isinstance(layers, str):\n",
    "        exp = lambda: None\n",
    "        exp.device = 'cpu'\n",
    "        exp.config = {'model': layers}\n",
    "        return GaussianExp.__base__.init_model(exp)\n",
    "    features = []\n",
    "    for i in range(layers):\n",
    "        features.append(nn.Conv2d(1 if i == 0 else 16, 16, 3))\n",
    "        if batch_norm:\n",
    "            features.append(nn.BatchNorm2d(16))\n",
    "        features.append(nn.ReLU(inplace=True))\n",
    "    classifier = [nn.AdaptiveAvgPool2d(1), nn.Flatten(), nn.Linear(16, 10)]\n",
    "    return nn.Sequential(*features, *classifier)\n",
    "\n",
    "\n",
    "def channel_sigma(sigma):\n",
    "    return torch.tensor((sigma,)) #/ torch.tensor((0.2470, 0.2435, 0.2616)).view(-1, 1, 1)\n",
    "\n",
    "\n",
    "def gaussian_forward(model, images, sigma):\n",
    "    exp = lambda: None\n",
    "    exp.model = model\n",
    "    exp.sigma = channel_sigma(sigma).to(images.device, images.dtype)\n",
    "    exp.relu_mean = GaussianExp.relu_mean\n",
    "    exp.conv2d_var_mean = GaussianExp.conv2d_var_mean\n",
    "    exp.batch_norm_var_mean = GaussianExp.batch_norm_var_mean\n",
    "    mu_forward, forward = GaussianExp.gaussian_forward(exp, {'inputs': images}, False)\n",
    "    return mu_forward, forward\n",
    "\n",
    "\n",
    "@torch.no_grad()\n",
    "def full_gaussian_forward(model, image, sigma, samples=1000):\n",
    "    meanf, f = gaussian_forward(model, image.unsqueeze(0), sigma)\n",
    "    noisy = image.new_empty(samples, *image.size()).normal_()\n",
    "    noisy.mul_(channel_sigma(sigma).to(image.device, image.dtype)).add_(image)\n",
    "    std, mean = torch.std_mean(model(noisy), dim=0)\n",
    "    return dict(std_monte_carlo=std, mu_monte_carlo=mean, mu_forward=meanf.squeeze(0), forward=f.squeeze(0))"
   ]
  },
  {
   "cell_type": "code",
   "execution_count": null,
   "metadata": {},
   "outputs": [],
   "source": [
    "from collections import defaultdict\n",
    "\n",
    "\n",
    "results = defaultdict(dict)\n",
    "image = torch.randn(1, 10, 10)\n",
    "for layers in range(1, 4 + 1):\n",
    "    model = get_model(layers).eval()\n",
    "    for sigma in [0.01, 0.1, 0.3, 0.5]:\n",
    "        results[layers][sigma] = full_gaussian_forward(model, image, sigma)"
   ]
  },
  {
   "cell_type": "code",
   "execution_count": null,
   "metadata": {},
   "outputs": [],
   "source": [
    "import matplotlib.pyplot as plt\n",
    "\n",
    "\n",
    "plt.figure(figsize=(10, 10))\n",
    "for sigma in [0.01, 0.1, 0.3, 0.5]:\n",
    "    mean_relative_error = [\n",
    "        relative_error(results[i][sigma]['mu_forward'], results[i][sigma]['mu_monte_carlo']).mean().item()\n",
    "        for i in range(1, 4 + 1)\n",
    "    ]\n",
    "    plt.plot(range(1, 4 + 1), mean_relative_error, label=f'$\\\\sigma = {sigma}$')\n",
    "plt.legend()\n",
    "plt.yscale('log')\n",
    "plt.ylabel('average relative error')\n",
    "plt.xlabel('number of layers')\n",
    "plt.title('sanity check')\n",
    "plt.show()"
   ]
  },
  {
   "cell_type": "markdown",
   "metadata": {},
   "source": [
    "batchnorm?"
   ]
  }
 ],
 "metadata": {
  "kernelspec": {
   "display_name": "Python 3",
   "language": "python",
   "name": "python3"
  },
  "language_info": {
   "codemirror_mode": {
    "name": "ipython",
    "version": 3
   },
   "file_extension": ".py",
   "mimetype": "text/x-python",
   "name": "python",
   "nbconvert_exporter": "python",
   "pygments_lexer": "ipython3",
   "version": "3.7.5"
  }
 },
 "nbformat": 4,
 "nbformat_minor": 4
}